{
  "nbformat": 4,
  "nbformat_minor": 0,
  "metadata": {
    "colab": {
      "name": "Experimento 2.ipynb",
      "provenance": [],
      "collapsed_sections": [
        "d3gKwj4hKwhc",
        "L4Gwr3UBN3G-"
      ],
      "mount_file_id": "1VeJMtd646pYaZvXMu2EJ5eg54BCPJouG",
      "authorship_tag": "ABX9TyMGhxzkXTS2ZsrC5yJBkmMt"
    },
    "kernelspec": {
      "name": "python3",
      "display_name": "Python 3"
    },
    "language_info": {
      "name": "python"
    }
  },
  "cells": [
    {
      "cell_type": "markdown",
      "metadata": {
        "id": "e2k89ZecKcVv"
      },
      "source": [
        "# Imports"
      ]
    },
    {
      "cell_type": "code",
      "metadata": {
        "id": "3J85edAJ22TJ"
      },
      "source": [
        "import pandas as pd\n",
        "import numpy as np\n",
        "\n",
        "import matplotlib.pyplot as plt\n",
        "from matplotlib.pyplot import cm\n",
        "\n",
        "from sklearn.linear_model import LinearRegression"
      ],
      "execution_count": null,
      "outputs": []
    },
    {
      "cell_type": "code",
      "metadata": {
        "id": "dvfUKJK-GX-0"
      },
      "source": [
        "plt.style.use('seaborn-colorblind')\n",
        "plt.rcParams['figure.figsize']  = (11, 7)\n",
        "plt.rcParams['axes.labelsize']  = 20\n",
        "plt.rcParams['axes.titlesize']  = 20\n",
        "plt.rcParams['legend.fontsize'] = 20\n",
        "plt.rcParams['xtick.labelsize'] = 20\n",
        "plt.rcParams['ytick.labelsize'] = 20\n",
        "plt.rcParams['lines.linewidth'] = 2\n",
        "plt.rcParams['lines.markersize'] = 10\n",
        "plt.rcParams['font.sans-serif'] = ['Helvetica', 'Verdana', 'DejaVu Sans']\n",
        "plt.rcParams['font.family'] = 'sans-serif'\n",
        "# plt.rcParams.keys()"
      ],
      "execution_count": null,
      "outputs": []
    },
    {
      "cell_type": "code",
      "metadata": {
        "id": "z761f4X-GRfO"
      },
      "source": [
        "def despine(ax=None):\n",
        "    if ax is None:\n",
        "        ax = plt.gca()\n",
        "    # Hide the right and top spines\n",
        "    ax.spines['right'].set_visible(False)\n",
        "    ax.spines['top'].set_visible(False)\n",
        "\n",
        "    # Only show ticks on the left and bottom spines\n",
        "    ax.yaxis.set_ticks_position('left')\n",
        "    ax.xaxis.set_ticks_position('bottom')"
      ],
      "execution_count": null,
      "outputs": []
    },
    {
      "cell_type": "markdown",
      "metadata": {
        "id": "krcUhwf9Kfkg"
      },
      "source": [
        "# Constantes"
      ]
    },
    {
      "cell_type": "code",
      "metadata": {
        "id": "IScE5hTJC6Of"
      },
      "source": [
        "g = 9.78\n",
        "Δg = 0.05"
      ],
      "execution_count": null,
      "outputs": []
    },
    {
      "cell_type": "markdown",
      "metadata": {
        "id": "I4b_lVtdKjJV"
      },
      "source": [
        "# Database"
      ]
    },
    {
      "cell_type": "code",
      "metadata": {
        "id": "FJm3QENd2KXN"
      },
      "source": [
        "df = pd.read_csv('/content/drive/MyDrive/Colab Notebooks/CSVs/dados.csv', encoding='utf-8')"
      ],
      "execution_count": null,
      "outputs": []
    },
    {
      "cell_type": "code",
      "metadata": {
        "colab": {
          "base_uri": "https://localhost:8080/",
          "height": 300
        },
        "id": "l4uCk6bZ3rEs",
        "outputId": "676c3be4-1365-4bdf-ab9a-128b6c5131a7"
      },
      "source": [
        "df"
      ],
      "execution_count": null,
      "outputs": [
        {
          "output_type": "execute_result",
          "data": {
            "text/plain": [
              "   # de Pesos     m      Δm      P     ΔP      x1     Δx1      xs     Δxs  \\\n",
              "0           0  0.00  0.0001  0.000  0.001  0.0000  0.0005  0.0000  0.0005   \n",
              "1           1  0.04  0.0001  0.391  0.002  0.0190  0.0005  0.0410  0.0005   \n",
              "2           2  0.08  0.0001  0.782  0.004  0.0365  0.0005  0.0840  0.0005   \n",
              "3           3  0.12  0.0001  1.174  0.006  0.0530  0.0005  0.1205  0.0005   \n",
              "4           4  0.16  0.0001  1.565  0.008  0.0725  0.0005  0.1575  0.0005   \n",
              "5           5  0.20  0.0001  1.956  0.010  0.0925  0.0005  0.2050  0.0005   \n",
              "6           6  0.24  0.0001  2.347  0.012  0.1120  0.0005  0.2555  0.0005   \n",
              "7           7  0.28  0.0001  2.738  0.014  0.1290  0.0005  0.2815  0.0005   \n",
              "\n",
              "       xp     Δxp  \n",
              "0  0.0000  0.0005  \n",
              "1  0.0130  0.0005  \n",
              "2  0.0220  0.0005  \n",
              "3  0.0295  0.0005  \n",
              "4  0.0410  0.0005  \n",
              "5  0.0510  0.0005  \n",
              "6  0.0570  0.0005  \n",
              "7  0.0700  0.0005  "
            ],
            "text/html": [
              "\n",
              "  <div id=\"df-45b49776-6f87-4816-9174-651337164e51\">\n",
              "    <div class=\"colab-df-container\">\n",
              "      <div>\n",
              "<style scoped>\n",
              "    .dataframe tbody tr th:only-of-type {\n",
              "        vertical-align: middle;\n",
              "    }\n",
              "\n",
              "    .dataframe tbody tr th {\n",
              "        vertical-align: top;\n",
              "    }\n",
              "\n",
              "    .dataframe thead th {\n",
              "        text-align: right;\n",
              "    }\n",
              "</style>\n",
              "<table border=\"1\" class=\"dataframe\">\n",
              "  <thead>\n",
              "    <tr style=\"text-align: right;\">\n",
              "      <th></th>\n",
              "      <th># de Pesos</th>\n",
              "      <th>m</th>\n",
              "      <th>Δm</th>\n",
              "      <th>P</th>\n",
              "      <th>ΔP</th>\n",
              "      <th>x1</th>\n",
              "      <th>Δx1</th>\n",
              "      <th>xs</th>\n",
              "      <th>Δxs</th>\n",
              "      <th>xp</th>\n",
              "      <th>Δxp</th>\n",
              "    </tr>\n",
              "  </thead>\n",
              "  <tbody>\n",
              "    <tr>\n",
              "      <th>0</th>\n",
              "      <td>0</td>\n",
              "      <td>0.00</td>\n",
              "      <td>0.0001</td>\n",
              "      <td>0.000</td>\n",
              "      <td>0.001</td>\n",
              "      <td>0.0000</td>\n",
              "      <td>0.0005</td>\n",
              "      <td>0.0000</td>\n",
              "      <td>0.0005</td>\n",
              "      <td>0.0000</td>\n",
              "      <td>0.0005</td>\n",
              "    </tr>\n",
              "    <tr>\n",
              "      <th>1</th>\n",
              "      <td>1</td>\n",
              "      <td>0.04</td>\n",
              "      <td>0.0001</td>\n",
              "      <td>0.391</td>\n",
              "      <td>0.002</td>\n",
              "      <td>0.0190</td>\n",
              "      <td>0.0005</td>\n",
              "      <td>0.0410</td>\n",
              "      <td>0.0005</td>\n",
              "      <td>0.0130</td>\n",
              "      <td>0.0005</td>\n",
              "    </tr>\n",
              "    <tr>\n",
              "      <th>2</th>\n",
              "      <td>2</td>\n",
              "      <td>0.08</td>\n",
              "      <td>0.0001</td>\n",
              "      <td>0.782</td>\n",
              "      <td>0.004</td>\n",
              "      <td>0.0365</td>\n",
              "      <td>0.0005</td>\n",
              "      <td>0.0840</td>\n",
              "      <td>0.0005</td>\n",
              "      <td>0.0220</td>\n",
              "      <td>0.0005</td>\n",
              "    </tr>\n",
              "    <tr>\n",
              "      <th>3</th>\n",
              "      <td>3</td>\n",
              "      <td>0.12</td>\n",
              "      <td>0.0001</td>\n",
              "      <td>1.174</td>\n",
              "      <td>0.006</td>\n",
              "      <td>0.0530</td>\n",
              "      <td>0.0005</td>\n",
              "      <td>0.1205</td>\n",
              "      <td>0.0005</td>\n",
              "      <td>0.0295</td>\n",
              "      <td>0.0005</td>\n",
              "    </tr>\n",
              "    <tr>\n",
              "      <th>4</th>\n",
              "      <td>4</td>\n",
              "      <td>0.16</td>\n",
              "      <td>0.0001</td>\n",
              "      <td>1.565</td>\n",
              "      <td>0.008</td>\n",
              "      <td>0.0725</td>\n",
              "      <td>0.0005</td>\n",
              "      <td>0.1575</td>\n",
              "      <td>0.0005</td>\n",
              "      <td>0.0410</td>\n",
              "      <td>0.0005</td>\n",
              "    </tr>\n",
              "    <tr>\n",
              "      <th>5</th>\n",
              "      <td>5</td>\n",
              "      <td>0.20</td>\n",
              "      <td>0.0001</td>\n",
              "      <td>1.956</td>\n",
              "      <td>0.010</td>\n",
              "      <td>0.0925</td>\n",
              "      <td>0.0005</td>\n",
              "      <td>0.2050</td>\n",
              "      <td>0.0005</td>\n",
              "      <td>0.0510</td>\n",
              "      <td>0.0005</td>\n",
              "    </tr>\n",
              "    <tr>\n",
              "      <th>6</th>\n",
              "      <td>6</td>\n",
              "      <td>0.24</td>\n",
              "      <td>0.0001</td>\n",
              "      <td>2.347</td>\n",
              "      <td>0.012</td>\n",
              "      <td>0.1120</td>\n",
              "      <td>0.0005</td>\n",
              "      <td>0.2555</td>\n",
              "      <td>0.0005</td>\n",
              "      <td>0.0570</td>\n",
              "      <td>0.0005</td>\n",
              "    </tr>\n",
              "    <tr>\n",
              "      <th>7</th>\n",
              "      <td>7</td>\n",
              "      <td>0.28</td>\n",
              "      <td>0.0001</td>\n",
              "      <td>2.738</td>\n",
              "      <td>0.014</td>\n",
              "      <td>0.1290</td>\n",
              "      <td>0.0005</td>\n",
              "      <td>0.2815</td>\n",
              "      <td>0.0005</td>\n",
              "      <td>0.0700</td>\n",
              "      <td>0.0005</td>\n",
              "    </tr>\n",
              "  </tbody>\n",
              "</table>\n",
              "</div>\n",
              "      <button class=\"colab-df-convert\" onclick=\"convertToInteractive('df-45b49776-6f87-4816-9174-651337164e51')\"\n",
              "              title=\"Convert this dataframe to an interactive table.\"\n",
              "              style=\"display:none;\">\n",
              "        \n",
              "  <svg xmlns=\"http://www.w3.org/2000/svg\" height=\"24px\"viewBox=\"0 0 24 24\"\n",
              "       width=\"24px\">\n",
              "    <path d=\"M0 0h24v24H0V0z\" fill=\"none\"/>\n",
              "    <path d=\"M18.56 5.44l.94 2.06.94-2.06 2.06-.94-2.06-.94-.94-2.06-.94 2.06-2.06.94zm-11 1L8.5 8.5l.94-2.06 2.06-.94-2.06-.94L8.5 2.5l-.94 2.06-2.06.94zm10 10l.94 2.06.94-2.06 2.06-.94-2.06-.94-.94-2.06-.94 2.06-2.06.94z\"/><path d=\"M17.41 7.96l-1.37-1.37c-.4-.4-.92-.59-1.43-.59-.52 0-1.04.2-1.43.59L10.3 9.45l-7.72 7.72c-.78.78-.78 2.05 0 2.83L4 21.41c.39.39.9.59 1.41.59.51 0 1.02-.2 1.41-.59l7.78-7.78 2.81-2.81c.8-.78.8-2.07 0-2.86zM5.41 20L4 18.59l7.72-7.72 1.47 1.35L5.41 20z\"/>\n",
              "  </svg>\n",
              "      </button>\n",
              "      \n",
              "  <style>\n",
              "    .colab-df-container {\n",
              "      display:flex;\n",
              "      flex-wrap:wrap;\n",
              "      gap: 12px;\n",
              "    }\n",
              "\n",
              "    .colab-df-convert {\n",
              "      background-color: #E8F0FE;\n",
              "      border: none;\n",
              "      border-radius: 50%;\n",
              "      cursor: pointer;\n",
              "      display: none;\n",
              "      fill: #1967D2;\n",
              "      height: 32px;\n",
              "      padding: 0 0 0 0;\n",
              "      width: 32px;\n",
              "    }\n",
              "\n",
              "    .colab-df-convert:hover {\n",
              "      background-color: #E2EBFA;\n",
              "      box-shadow: 0px 1px 2px rgba(60, 64, 67, 0.3), 0px 1px 3px 1px rgba(60, 64, 67, 0.15);\n",
              "      fill: #174EA6;\n",
              "    }\n",
              "\n",
              "    [theme=dark] .colab-df-convert {\n",
              "      background-color: #3B4455;\n",
              "      fill: #D2E3FC;\n",
              "    }\n",
              "\n",
              "    [theme=dark] .colab-df-convert:hover {\n",
              "      background-color: #434B5C;\n",
              "      box-shadow: 0px 1px 3px 1px rgba(0, 0, 0, 0.15);\n",
              "      filter: drop-shadow(0px 1px 2px rgba(0, 0, 0, 0.3));\n",
              "      fill: #FFFFFF;\n",
              "    }\n",
              "  </style>\n",
              "\n",
              "      <script>\n",
              "        const buttonEl =\n",
              "          document.querySelector('#df-45b49776-6f87-4816-9174-651337164e51 button.colab-df-convert');\n",
              "        buttonEl.style.display =\n",
              "          google.colab.kernel.accessAllowed ? 'block' : 'none';\n",
              "\n",
              "        async function convertToInteractive(key) {\n",
              "          const element = document.querySelector('#df-45b49776-6f87-4816-9174-651337164e51');\n",
              "          const dataTable =\n",
              "            await google.colab.kernel.invokeFunction('convertToInteractive',\n",
              "                                                     [key], {});\n",
              "          if (!dataTable) return;\n",
              "\n",
              "          const docLinkHtml = 'Like what you see? Visit the ' +\n",
              "            '<a target=\"_blank\" href=https://colab.research.google.com/notebooks/data_table.ipynb>data table notebook</a>'\n",
              "            + ' to learn more about interactive tables.';\n",
              "          element.innerHTML = '';\n",
              "          dataTable['output_type'] = 'display_data';\n",
              "          await google.colab.output.renderOutput(dataTable, element);\n",
              "          const docLink = document.createElement('div');\n",
              "          docLink.innerHTML = docLinkHtml;\n",
              "          element.appendChild(docLink);\n",
              "        }\n",
              "      </script>\n",
              "    </div>\n",
              "  </div>\n",
              "  "
            ]
          },
          "metadata": {},
          "execution_count": 21
        }
      ]
    },
    {
      "cell_type": "markdown",
      "metadata": {
        "id": "rrx_KnjKKoLU"
      },
      "source": [
        "# Gráficos"
      ]
    },
    {
      "cell_type": "code",
      "metadata": {
        "colab": {
          "base_uri": "https://localhost:8080/",
          "height": 577
        },
        "id": "b_fpVKb1BCdv",
        "outputId": "76536f9d-5ed0-4005-807d-bfb1afc5dbd5"
      },
      "source": [
        "colx = ['x1', 'xs', 'xp']\n",
        "coly = 'P'\n",
        "\n",
        "# color = iter(cm.rainbow(np.linspace(0, 1, len(coly) * 3)))\n",
        "\n",
        "color = ['purple', 'orange', 'green']\n",
        "\n",
        "y = df[[coly]]\n",
        "\n",
        "for i in range(len(colx)):\n",
        "    X = df[[colx[i]]]\n",
        "    linear = LinearRegression(fit_intercept=True)\n",
        "    linear = linear.fit(X, y)\n",
        "\n",
        "    y_hat = linear.predict(X)\n",
        "\n",
        "    plt.plot(X, y_hat, color=color[i % 3], label=colx[i] + ' fit')\n",
        "    print('A ' + colx[i] + ':', np.round(linear.coef_[0][0], 4))\n",
        "    print('B ' + colx[i] + ':', np.round(linear.intercept_[0], 4))\n",
        "    print()\n",
        "\n",
        "    plt.scatter(X, y, color=color[(i + 1) % 3], label=colx[i])\n",
        "\n",
        "plt.xlabel('Amor')\n",
        "plt.ylabel('mor')\n",
        "\n",
        "plt.legend()\n",
        "\n",
        "despine()\n",
        "\n",
        "plt.show()"
      ],
      "execution_count": null,
      "outputs": [
        {
          "output_type": "stream",
          "name": "stdout",
          "text": [
            "A x1: 21.1115\n",
            "B x1: 0.0114\n",
            "\n",
            "A xs: 9.5205\n",
            "B xs: 0.0065\n",
            "\n",
            "A xp: 40.4668\n",
            "B xp: -0.0649\n",
            "\n"
          ]
        },
        {
          "output_type": "display_data",
          "data": {
            "image/png": "[encoded data removed]",
            "text/plain": [
              "<Figure size 792x504 with 1 Axes>"
            ]
          },
          "metadata": {
            "needs_background": "light"
          }
        }
      ]
    },
    {
      "cell_type": "markdown",
      "metadata": {
        "id": "kx0XeEG8Krj0"
      },
      "source": [
        "# Regressão"
      ]
    },
    {
      "cell_type": "markdown",
      "metadata": {
        "id": "d3gKwj4hKwhc"
      },
      "source": [
        "## Funções"
      ]
    },
    {
      "cell_type": "code",
      "metadata": {
        "id": "E_vJsGImHYyT"
      },
      "source": [
        "# def predict(alpha, beta, x):\n",
        "#     return alpha + beta * x\n",
        "\n",
        "# def error(alpha, beta, x, y):\n",
        "#     return y - predict(alpha, beta, x)\n",
        "\n",
        "# def sse(alpha, beta, x, y):\n",
        "#     err += np.sum(error(alpha, beta, x, y) ** 2)\n",
        "#     return err\n",
        "\n",
        "# def var(x):\n",
        "#     n = len(x)\n",
        "    \n",
        "#     x_mean = np.mean(x)\n",
        "    \n",
        "#     return np.sum((x - x_mean) ** 2) / (n - 1)\n",
        "\n",
        "# def cov(x, y):\n",
        "#     n = len(x)\n",
        "    \n",
        "#     x_mean = np.mean(x)\n",
        "#     y_mean = np.mean(y)\n",
        "    \n",
        "#     return np.sum((x - x_mean) * (y - y_mean)) / (n - 1)\n",
        "\n",
        "# def least_squares_fit(x, y):\n",
        "#     covxy = cov(x, y)\n",
        "#     varx = var(x)\n",
        "\n",
        "#     beta = covxy / varx\n",
        "\n",
        "#     alpha = np.mean(y) - beta * np.mean(x)\n",
        "\n",
        "#     return alpha, beta"
      ],
      "execution_count": null,
      "outputs": []
    },
    {
      "cell_type": "code",
      "metadata": {
        "id": "2ISPPKMZKNnO"
      },
      "source": [
        "def predict(alpha, beta, x):\n",
        "    return alpha + beta * x\n",
        "\n",
        "def error(alpha, beta, x, y):\n",
        "    return y - predict(alpha, beta, x)\n",
        "\n",
        "def sse(alpha, beta, x, y):\n",
        "    err = np.sum(error(alpha, beta, x, y) ** 2)\n",
        "    return err\n",
        "\n",
        "def least_squares_fit(x, y):\n",
        "    covxy = np.cov(x, y, ddof=1)[0][1]\n",
        "    varx = np.var(x, ddof=1)\n",
        "\n",
        "    beta = covxy / varx\n",
        "\n",
        "    alpha = np.mean(y) - beta * np.mean(x)\n",
        "\n",
        "    return alpha, beta\n",
        "\n",
        "def u_ab(x, ssquares):\n",
        "    n = len(x)\n",
        "\n",
        "    p1 = ssquares / (n - 2)\n",
        "\n",
        "    xssquares = np.sum(x ** 2)\n",
        "    \n",
        "    p2_num = xssquares\n",
        "    p2_den = n * xssquares - xssquares\n",
        "\n",
        "    p2 = np.sqrt(p2_num / p2_den)\n",
        "\n",
        "    u_a = p1 * p2\n",
        "    \n",
        "    num = ssquares\n",
        "\n",
        "    den_p1 = n - 2\n",
        "    den_p2 = n * xssquares - xssquares\n",
        "\n",
        "    den = den_p1 * np.sqrt(den_p2)\n",
        "\n",
        "    u_b = num / den\n",
        "\n",
        "    return u_a, u_b"
      ],
      "execution_count": null,
      "outputs": []
    },
    {
      "cell_type": "markdown",
      "metadata": {
        "id": "V_DDK4OaKy40"
      },
      "source": [
        "## Valores"
      ]
    },
    {
      "cell_type": "markdown",
      "metadata": {
        "id": "L4Gwr3UBN3G-"
      },
      "source": [
        "### Comparação"
      ]
    },
    {
      "cell_type": "code",
      "metadata": {
        "colab": {
          "base_uri": "https://localhost:8080/",
          "height": 460
        },
        "id": "n4qH1KqzMslR",
        "outputId": "ea1c4219-6f54-478a-cfbc-ed489679f3e1"
      },
      "source": [
        "# colx = ['x1', 'xs', 'xp']\n",
        "# coly = 'P'\n",
        "\n",
        "# Y = df[[coly]]\n",
        "# y = df[coly]\n",
        "\n",
        "# for i in range(len(colx)):\n",
        "#     X = df[[colx[i]]]\n",
        "#     x = df[colx[i]]\n",
        "#     linear = LinearRegression(fit_intercept=False)\n",
        "#     linear = linear.fit(X, Y)\n",
        "\n",
        "#     y_hat = linear.predict(X)\n",
        "\n",
        "#     plt.plot(X, y_hat, label=colx[i] + ' SKLearn')\n",
        "\n",
        "#     alpha, beta = least_squares_fit(x, y)\n",
        "\n",
        "#     y_hat = predict(alpha, beta, x)\n",
        "\n",
        "#     plt.plot(x, y_hat, label=colx[i] + ' Numpy')\n",
        "\n",
        "#     # print('SKLearn:')\n",
        "#     # print('A ' + colx[i] + ':', np.round(linear.coef_[0][0], 4))\n",
        "#     # print('B ' + colx[i] + ':', np.round(linear.intercept_, 4))\n",
        "#     # print()\n",
        "\n",
        "#     # print('Numpy:')\n",
        "#     # print('A ' + colx[i] + ':', np.round(beta, 4))\n",
        "#     # print('B ' + colx[i] + ':', np.round(alpha, 4))\n",
        "#     # print()\n",
        "\n",
        "#     plt.scatter(X, Y, label=colx[i])\n",
        "\n",
        "# plt.xlabel('Amor')\n",
        "# plt.ylabel('mor')\n",
        "\n",
        "# plt.legend()\n",
        "\n",
        "# despine()\n",
        "\n",
        "# plt.show()"
      ],
      "execution_count": null,
      "outputs": [
        {
          "output_type": "display_data",
          "data": {
            "image/png": "[encoded data removed]",
            "text/plain": [
              "<Figure size 792x504 with 1 Axes>"
            ]
          },
          "metadata": {
            "needs_background": "light"
          }
        }
      ]
    },
    {
      "cell_type": "code",
      "metadata": {
        "colab": {
          "base_uri": "https://localhost:8080/"
        },
        "id": "_E7sFBhwTihc",
        "outputId": "282f21df-351c-460f-e3b9-ca44e7303219"
      },
      "source": [
        "# colx = ['x1', 'xs', 'xp']\n",
        "# coly = 'P'\n",
        "\n",
        "# Y = df[[coly]]\n",
        "# y = df[coly]\n",
        "\n",
        "# for i in range(len(colx)):\n",
        "#     X = df[[colx[i]]]\n",
        "#     x = df[colx[i]]\n",
        "#     linear = LinearRegression(fit_intercept=True)\n",
        "#     linear = linear.fit(X, Y)\n",
        "\n",
        "#     alpha, beta = least_squares_fit(x, y)\n",
        "\n",
        "#     print('SKLearn:')\n",
        "#     print('A ' + colx[i] + ':', np.round(linear.coef_[0][0], 4))\n",
        "#     print('B ' + colx[i] + ':', np.round(linear.intercept_[0], 4))\n",
        "#     print()\n",
        "\n",
        "#     print('Numpy:')\n",
        "#     print('A ' + colx[i] + ':', np.round(beta, 4))\n",
        "#     print('B ' + colx[i] + ':', np.round(alpha, 4))\n",
        "#     print()"
      ],
      "execution_count": null,
      "outputs": [
        {
          "output_type": "stream",
          "name": "stdout",
          "text": [
            "SKLearn:\n",
            "A x1: 21.1115\n",
            "B x1: 0.0114\n",
            "\n",
            "Numpy:\n",
            "A x1: 21.1115\n",
            "B x1: 0.0114\n",
            "\n",
            "SKLearn:\n",
            "A xs: 9.5205\n",
            "B xs: 0.0065\n",
            "\n",
            "Numpy:\n",
            "A xs: 9.5205\n",
            "B xs: 0.0065\n",
            "\n",
            "SKLearn:\n",
            "A xp: 40.4668\n",
            "B xp: -0.0649\n",
            "\n",
            "Numpy:\n",
            "A xp: 40.4668\n",
            "B xp: -0.0649\n",
            "\n"
          ]
        }
      ]
    },
    {
      "cell_type": "markdown",
      "metadata": {
        "id": "3Kdg2I5TN7MG"
      },
      "source": [
        "### Continuação"
      ]
    },
    {
      "cell_type": "code",
      "metadata": {
        "colab": {
          "base_uri": "https://localhost:8080/"
        },
        "id": "DEblWiXfNHn3",
        "outputId": "7405fe7b-70d1-41ec-d77f-6b431ee6e2de"
      },
      "source": [
        "colx = ['x1', 'xs', 'xp']\n",
        "coly = 'P'\n",
        "\n",
        "y = df[coly]\n",
        "\n",
        "for i in range(len(colx)):\n",
        "    X = df[colx[i]]\n",
        "\n",
        "    alpha, beta = least_squares_fit(X, y)\n",
        "\n",
        "    print('A ' + colx[i] + ':', np.round(beta, 4))\n",
        "    print('B ' + colx[i] + ':', np.round(alpha, 4))\n",
        "    print()"
      ],
      "execution_count": null,
      "outputs": [
        {
          "output_type": "stream",
          "name": "stdout",
          "text": [
            "A x1: 21.1115\n",
            "B x1: 0.0114\n",
            "\n",
            "A xs: 9.5205\n",
            "B xs: 0.0065\n",
            "\n",
            "A xp: 40.4668\n",
            "B xp: -0.0649\n",
            "\n"
          ]
        }
      ]
    },
    {
      "cell_type": "code",
      "metadata": {
        "id": "nyO0hOkd0qVV"
      },
      "source": [
        "# B = -0.001527 +/- 0.0009388\n",
        "# A = 21.31 +/- 0.04532\n",
        "\n",
        "# B = -0.000336 +/- 0.0009378\n",
        "# A = 9.559 +/- 0.02034\n",
        "\n",
        "# B = -0.01475 +/- 0.0009521\n",
        "# A = 37.27 +/- 0.07973"
      ],
      "execution_count": null,
      "outputs": []
    },
    {
      "cell_type": "code",
      "metadata": {
        "colab": {
          "base_uri": "https://localhost:8080/"
        },
        "id": "eOoD0bsuOE8e",
        "outputId": "cb88c6a3-4421-4478-a3cd-8e850e7c6cc1"
      },
      "source": [
        "coly = ['x1', 'xs', 'xp']\n",
        "colx = 'P'\n",
        "\n",
        "X = df[colx]\n",
        "\n",
        "for i in range(len(coly)):\n",
        "    y = df[coly[i]]\n",
        "\n",
        "    alpha, beta = least_squares_fit(X, y)\n",
        "\n",
        "    print('A ' + coly[i] + ':', np.round(beta, 4))\n",
        "    print('B ' + coly[i] + ':', np.round(alpha, 4))\n",
        "    print()"
      ],
      "execution_count": null,
      "outputs": [
        {
          "output_type": "stream",
          "name": "stdout",
          "text": [
            "A x1: 0.0473\n",
            "B x1: -0.0005\n",
            "\n",
            "A xs: 0.1048\n",
            "B xs: -0.0003\n",
            "\n",
            "A xp: 0.0246\n",
            "B xp: 0.0018\n",
            "\n"
          ]
        }
      ]
    },
    {
      "cell_type": "code",
      "metadata": {
        "id": "QtPpcJldOZZ7"
      },
      "source": [
        "# B = -0.0004997 +/- 0.0003227\n",
        "# A = 0.04734 +/- 0.0001972\n",
        "\n",
        "# B = -0.0003327 +/- 0.0003227\n",
        "# A = 0.1048 +/- 0.0001972\n",
        "\n",
        "# B = 0.00175 +/- 0.0003227\n",
        "# A = 0.0246 +/- 0.0001972"
      ],
      "execution_count": null,
      "outputs": []
    },
    {
      "cell_type": "code",
      "metadata": {
        "colab": {
          "base_uri": "https://localhost:8080/"
        },
        "id": "xCbiE3wPb5gM",
        "outputId": "9cdf2281-d1f8-4f80-ed82-c8762d1415bd"
      },
      "source": [
        "colx = ['x1', 'xs', 'xp']\n",
        "coly = 'P'\n",
        "\n",
        "y = df[coly].values\n",
        "\n",
        "for i in range(len(colx)):\n",
        "    X = df[[colx[i]]].values\n",
        "    x = df[colx[i]].values\n",
        "    linear = LinearRegression(fit_intercept=True)\n",
        "    linear = linear.fit(X, y)\n",
        "\n",
        "    ssquares = np.sum((y - linear.predict(X)) ** 2)\n",
        "    \n",
        "    ua_, ub_ = u_ab(X, ssquares)\n",
        "\n",
        "    print('SKLearn:')\n",
        "    print('A ' + colx[i] + ':', '(' + str(np.round(linear.coef_[0], 4)), '±', str(np.round(ua_, 4)) + ')')\n",
        "    print('B ' + colx[i] + ':', '(' + str(np.round(linear.intercept_, 4)), '±', str(np.round(ub_, 4)) + ')')\n",
        "    print()\n",
        "\n",
        "    alpha, beta = least_squares_fit(x, y)\n",
        "\n",
        "    ssquares = sse(alpha, beta, x, y)\n",
        "    \n",
        "    ua_, ub_ = u_ab(x, ssquares)\n",
        "\n",
        "    print('Numpy:')\n",
        "    print('A ' + colx[i] + ':', '(' + str(np.round(beta, 4)), '±', str(np.round(ua_, 4)) + ')')\n",
        "    print('B ' + colx[i] + ':', '(' + str(np.round(alpha, 4)), '±', str(np.round(ub_, 4)) + ')')\n",
        "    print()"
      ],
      "execution_count": null,
      "outputs": [
        {
          "output_type": "stream",
          "name": "stdout",
          "text": [
            "SKLearn:\n",
            "A x1: (21.1115 ± 0.0002)\n",
            "B x1: (0.0114 ± 0.0011)\n",
            "\n",
            "Numpy:\n",
            "A x1: (21.1115 ± 0.0002)\n",
            "B x1: (0.0114 ± 0.0011)\n",
            "\n",
            "SKLearn:\n",
            "A xs: (9.5205 ± 0.001)\n",
            "B xs: (0.0065 ± 0.002)\n",
            "\n",
            "Numpy:\n",
            "A xs: (9.5205 ± 0.001)\n",
            "B xs: (0.0065 ± 0.002)\n",
            "\n",
            "SKLearn:\n",
            "A xp: (40.4668 ± 0.0017)\n",
            "B xp: (-0.0649 ± 0.0148)\n",
            "\n",
            "Numpy:\n",
            "A xp: (40.4668 ± 0.0017)\n",
            "B xp: (-0.0649 ± 0.0148)\n",
            "\n"
          ]
        }
      ]
    }
  ]
}